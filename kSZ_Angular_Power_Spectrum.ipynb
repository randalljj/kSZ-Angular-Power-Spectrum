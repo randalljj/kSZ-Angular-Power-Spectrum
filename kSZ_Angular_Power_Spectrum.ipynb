{
 "cells": [
  {
   "cell_type": "markdown",
   "id": "3ae8faf4-a830-468b-bff8-a7cf24d04287",
   "metadata": {},
   "source": [
    "# Kinetic Sunyaev-Zeldovich Angular Power Spectrum\n",
    "\n",
    "### Author:  Jesse Randall\n",
    "### Advisor: Dr. James Cooney\n",
    "### Date:    27/01/2022"
   ]
  },
  {
   "cell_type": "markdown",
   "id": "916c2623-14d1-467a-a723-104152fd6a7b",
   "metadata": {
    "tags": []
   },
   "source": [
    "## Changelog"
   ]
  },
  {
   "cell_type": "markdown",
   "id": "5cf4bfb7-c0a6-42e0-86fc-1ac1fb1428e3",
   "metadata": {
    "jp-MarkdownHeadingCollapsed": true,
    "tags": []
   },
   "source": [
    "### Edits prior to return in Jan. 2022"
   ]
  },
  {
   "cell_type": "raw",
   "id": "680a7607-0749-4dcd-a22f-1af06f704110",
   "metadata": {},
   "source": [
    "04/07/18 \n",
    "changed units of c to km/s to match units in paper fixing initial error in graph. Still is off by e3.\n",
    "        \n",
    "04/09/18 \n",
    "Added normalization that fixed the error.\n",
    "\n",
    "10/08/18 \n",
    "Started working on project again. Trying to numerically integrate the function for the variance on page 48 to graph the standard deviation as a function of M.\n",
    "        \n",
    "03/25/19 \n",
    "Haven't updated this edit log in a while. Finished section numerically integrating variance, however, it is done improperly and still needs to be reworked. Started work on next section which involves integration of contributions to power spectrum. \n",
    "        \n",
    "01/18/22 \n",
    "Continuation of the project after extended absence. Going over code now and am making a review of the progress we made so far."
   ]
  },
  {
   "cell_type": "markdown",
   "id": "1fece645-72b8-4a43-9485-3e39e31e7bd2",
   "metadata": {
    "tags": []
   },
   "source": [
    "### Edits after Return in Jan. 2022"
   ]
  },
  {
   "cell_type": "markdown",
   "id": "2f7c9c9b-de88-4fe1-9188-90ed7029dfe0",
   "metadata": {
    "tags": []
   },
   "source": [
    "#### 25/01/2022: Refactored code into current Jupyter Notebook"
   ]
  },
  {
   "cell_type": "raw",
   "id": "96fd3e8e-3257-4a47-9341-3a26af32ee91",
   "metadata": {},
   "source": [
    "Started the process of turning my Python script into a Jupyter Notebook for better readability and customizability."
   ]
  },
  {
   "cell_type": "markdown",
   "id": "404bf16d-fc73-4864-8bf8-29e23ae7d9c5",
   "metadata": {},
   "source": [
    "#### 12/02/2022: Making GitHub Repository"
   ]
  },
  {
   "cell_type": "raw",
   "id": "d0e28bd7-50e5-4fa9-a0ba-c183cbead323",
   "metadata": {},
   "source": [
    "All future changes are being logged using the version control software called Git and they are being uploaded to a public respository under my GitHub account. \n",
    "\n",
    "Account: github.com/randalljj\n",
    "Repository: gitbub.com/randalljj/kSZ-Angular-Power-Spectrum\n",
    "\n",
    "This will help with managment of the code and logging any issues I run into."
   ]
  },
  {
   "cell_type": "markdown",
   "id": "3d82b4ab-9d0d-4b3a-81b5-2f5b120f443d",
   "metadata": {
    "tags": []
   },
   "source": [
    "## Preface"
   ]
  },
  {
   "cell_type": "markdown",
   "id": "ecf351f5-ff34-4211-acf8-15346b8e9fe0",
   "metadata": {
    "tags": []
   },
   "source": [
    "### Introduction:"
   ]
  },
  {
   "cell_type": "raw",
   "id": "5a59052e-5de6-45b5-9bf9-812bde4b11b4",
   "metadata": {},
   "source": [
    "This Jupyter Notebook attempts to reproduce the results from Dr. James Cooney's PHD dissertation. \n",
    "\n",
    "Dr. Cooney's dissertation is on a field of study in cosmology known as large-scale structure, the study of the general distribution of matter and energy in the universe. This field developed into a mature scientific discipline with the inception of Albert Einstein's General Theory of Relativity which has been rigorously explored and tested over the last one hundred years. This gave us an accurate way to construct a cosmological model for the evolution of the universe. Modern analysis of our universe's cosmological parameters all imply that the Lambda-CDM model best describes our universe. It is a parametrization of the Big Bang model where the universe consists of three major components.\n",
    "\n",
    "    1: Lambda, the cosmological constant, or dark energy.\n",
    "    2: CDM, Cold Dark Matter\n",
    "    3: Ordinary Matter\n",
    "    \n",
    "This project follows the Lambda-CDM model so in order to understand the general distribution of matter and energy, we must understand this model's description of the evolution of the universe and the role that these components play. Let's start with some history on the basis for this model, the Big Bang theory.\n",
    "\n",
    "This theory states that the universe started as a miniscule volume of space-time consisting of homogenous, hot, dense matter and energy that underwent uniform, isotropic expansion. The most pertinent prediction of this theory is the existence of a nearly isotropic stream of photons from the time of recombination, where neutral atoms started to form, known as the cosmic microwave background radiation (CMB). We discovered the CMB in 1964 which was a huge piece of evidence in favor for the Big Bang theory. However, it was not definitive proof as the measurements were not precise enough to distinguish its anisotropic effects. These are of principle interest for this project which we will discuss more later. Finally, more accurate measurements from the COBE space observatory in the 1990's precisely measured the CMB spectrum and found that it had astounding agreement with the predicted black body spectrum. It is the most precise fit to a black body spectrum we have ever measured in nature. This was definitive proof that our universe is not static and that the early universe was much smaller, denser, and hotter than our current universe.\n",
    "\n",
    "Another piece of the puzzle came from the observations of Edwin Hubble in 1929 who determined that our universe is currently expanding. Then in 1998, we found proof that the expansion is actually accelerating. The solutions to the equations of the General Theory of Relativity which explain this accelerated expansion include a variable known as the cosmological constant and it is represented by the greek letter Lambda. We currently call this quantity 'dark energy' as we understand its influence on space-time but cannot measure it directly. Dark energy exerts a negative pressure on space-time causing it to expand, and over time this pressure has grown and continues to grow. Essentially, the more space-time expands, the more dark energy there is. This is why dark energy is also known as vacuum energy. So the general distribution of matter and energy in the universe is first influenced by the general expansion of space-time. This expansion only occurs outside of gravitationally bound cosmological objects such galaxies.\n",
    "\n",
    "Gravity, therefore, is the other key component for the evolution of the distribution of matter and energy in our universe. This is an attractive force that is a property of matter and dark matter. Just like dark energy, we can see the effects that dark matter has on space-time, but cannot observe it directly. It is matter that does not interact with light the same way ordinary matter does. In the early universe, it is believed that small fluctuations in the homogenous density of matter and CDM resulted in gravitational accretion in higher density regions. This explains why the universe is NOT homogenous on small scales, but is on large scales.\n",
    "\n",
    "With these two components we are able to discuss the evolution of the distribution of matter and energy in the universe. Now we will discuss the primary interest of this project. As mentioned before, the cosmic microwave background has distinctive anisotropic effects that tell us about the early universe and the recent past. The anisotropic effect we are interested in is caused by the bulk motion of foreground objects which scatters the CMB as it passes through them. This process is known as the kinetic Sunyaev-Zeldovich effect (kSZ). The velocity of a cosmological object, with the velocity due to the expansion of space-time factored out, is known as the peculiar velocity. The peculiar velocity has two components, a radial mode and a rotational mode. The rotational mode is largely disregarded for most large-scale structure applications since it is observed to decay with the expansion of the universe. However, for applicaitons where nonlinear effects are important it should have an appreciable effect. This project aims to quantify the effect the rotational mode of the peculiar velocity has on the kSZ by building a non-linear kSZ angular power spectrum.\n",
    "\n",
    "Previous results found that it did not have much effect. However, the replication of these calculations using modern computational techniques was motivated as a way to double check. "
   ]
  },
  {
   "cell_type": "markdown",
   "id": "7de1e229-26a9-4c21-a519-f16b26a430ae",
   "metadata": {
    "tags": []
   },
   "source": [
    "### Technical Details:"
   ]
  },
  {
   "cell_type": "raw",
   "id": "1f66c3fe-f9be-4dd8-8fee-b85ddef584f8",
   "metadata": {},
   "source": [
    "I am using the Numerical Python (NumPy) package for their NumPy array data structure which provides efficient operations over an array of elements using a feature known as \"broadcasting\". I made another Jupyter Notebook going over the benefits of NumPy and how to use it effectively which you can access using the following link.\n",
    "\n",
    "Personal NumPy notes: https://github.com/randalljj/NumPy-Notes\n",
    "\n",
    "I am also using the Scientic Python (SciPy) package for reliable numerical derivative and integration methods. I am in the process of making my own personal notes for SciPy in another Jupyter Notebook you can access using the following link.\n",
    "\n",
    "Personal SciPy notes: \n",
    "\n",
    "The \"Python Data Science Handbook\" by Jake Vanderplas is a more comprehensive resource for both of these packages and many more used in modern scientific research.\n",
    "\n",
    "Python Data Science: https://github.com/jakevdp/PythonDataScienceHandbook"
   ]
  },
  {
   "cell_type": "markdown",
   "id": "933d82c2-4ca9-4824-9387-46eaa7993dc6",
   "metadata": {
    "tags": []
   },
   "source": [
    "### Index"
   ]
  },
  {
   "cell_type": "raw",
   "id": "8f40a030-ee1a-44c9-9980-a79d4ab53c7c",
   "metadata": {},
   "source": [
    "Section 0: Import packages and define global constants\n",
    "\n",
    "Section 1: Dimensionless Linear Power Spectrum (DLPS)\n",
    "    Section 1.0: Notes on DLPS\n",
    "    Section 1.1: Defined funcitons for DLPS\n",
    "    Section 1.2: Plot DLPS\n",
    "\n",
    "Section 2: Variance/Standard Deviation of density contrast\n",
    "    Section 2.0: Notes on Variance/Standard Deviation of Density Contrast\n",
    "    Section 2.1: Define functions for variance integrand\n",
    "    Section 2.2: Plot integrand for range of mass\n",
    "    Section 2.3: Define function to evaluate the numerical integral for Standard Deviation\n",
    "    Section 2.4: Plot Standard Deviation\n",
    "\n",
    "Section 3: Bias Factor b(M) for 2H term of Nonlinear Power Spectrum\n",
    "    Section 3.0: Notes on bias factor for 2 halo term of Nonlinear Power Spectrum\n",
    "    Section 3.1: Define functions for bias factor\n",
    "    Section 3.2: Plot bias factor\n",
    "\n",
    "Section 4: Nonlinear Power Spectrum\n",
    "    Section 4.0: Notes on Nonlinear Power Spectrum\n",
    "    Section 4.1: Define functions for integrand of NLPS\n",
    "    Section 4.2: Plot NLPS Integrand\n",
    "    Section 4.3: Define functions to numerically integrate NLPS\n",
    "    Section 4.4: Plot NLPS"
   ]
  },
  {
   "cell_type": "markdown",
   "id": "2a386702-a28c-4834-8e33-15c51b2d1aa4",
   "metadata": {
    "tags": []
   },
   "source": [
    "## Section 0: Import packages and define global constants"
   ]
  },
  {
   "cell_type": "code",
   "execution_count": 1,
   "id": "037b4f7b-8e01-469e-87a1-912adf0fdf40",
   "metadata": {},
   "outputs": [],
   "source": [
    "##### PACKAGES #####\n",
    "import numpy as np                     # Standard shorthand for NumPy package.\n",
    "import scipy.integrate as spint        # My shorthand for scipy.integrate module.\n",
    "import scipy.misc      as spmisc       # My shorthand for scipy.misc module.\n",
    "import matplotlib.pyplot as plt        # Standard shorthand for matplotlib package.\n",
    "plt.rcParams.update({'font.size':16})  # Change font size on plots for easy reading.\n",
    "\n",
    "##### GLOBAL CONSTANTS #####\n",
    "\n",
    "##### General #####\n",
    "NL          = '\\n' # New line for print statements.\n",
    "\n",
    "##### Plots #####\n",
    "j           = 0    # Figure index. Increment when plotting to designate next figure.\n",
    "FIGX        = 10   # Figure x dimension.\n",
    "FIGY        = 8    # Figure y dimension.\n",
    "POINTS      = int(1e3) # Number of points to plot.\n",
    "\n",
    "# 1 True, 0 False.\n",
    "# To plot something, change the 0 to a 1 for the plot you wish to make.\n",
    "PLOTDLPS    = 1    # Plot dimensionless linear power spectrum of density fluctuations.\n",
    "PLOTVARINT  = 1    # Plot integrand of variance of density fluctuations.\n",
    "PLOTSD      = 1    # Plot standard deviation of density fluctuations.\n",
    "PLOTBIAS    = 1    # Plot bias parameter.\n",
    "PLOTSTDNDM  = 0    # Plot Sheth-Tormen mass function.\n",
    "PLOTPSINT   = 0    # Plot integrand of contributions to non-linear power spectrum.\n",
    "PLOTPS      = 0    # Plot non-linear power spectrum.\n",
    "\n",
    "##### Variables for DLPS #####\n",
    "n       =  1     # Power of Power Law.\n",
    "a       =  1     # Scale Factor.\n",
    "DHP     =  0.710 # Dimensionless Hubble Parameter.\n",
    "H0      = 71.0   # (km/s/Mpc) Hubble constant. \n",
    "OMEGAM0 =  0.30  # Mass Density Parameter evaluated now.\n",
    "OMEGAL0 =  0.70  # Cosmological Density Parameter evaluated now.\n",
    "OMEGAB0 =  0.05  # Baryon Density Parameter evaluated now.\n",
    "C       =  2.99792458e5   # (km/s) Speed of light. \n",
    "NORM    = (2 * np.pi)**3  # Normalization factor for dimensionless power spectrum\n",
    "# Shape Parameter characterizes the dependence on cosmological parameters.\n",
    "GAMMA   = OMEGAM0*DHP / (np.exp(OMEGAB0*(1 + 1.3/OMEGAM0)))\n",
    "kLIN    = np.logspace(-2, 2, POINTS)  # (1/Mpc) Wavenumber  \n",
    "# Numerical Parameters from simulations\n",
    "ai      = np.array((2.34 , 3.89, 16.1 , 5.46, 6.71))\n",
    "bi      = np.array((0.785, 0.05,  0.95, 0.169))    \n",
    "\n",
    "##### Variables for SD #####\n",
    "MSOLAR = 1.989e30 # (kg) Mass of Sun\n",
    "M_MAG  = np.logspace(12,21,POINTS) # (M/M_0) Array for range of mass for plotting in solar masses.\n",
    "M_SOL  = M_MAG.copy()*MSOLAR       # (kg) Array for range of mass in kg for calculation.\n",
    "RHO0   = 2.7e-27  # (kg/m**3) Density of universe. Ryden pg 11.\n",
    "P1     = 3 / (4 * np.pi * RHO0) # constant in Top Hat Window function.\n",
    "P2     = 4*np.pi  # constant in integrand.\n",
    "KCONV  = DHP / (3.086e22) # conversion of k from h/Mpc to 1/m.\n",
    "kVAR   = np.logspace(-6,2,POINTS) # (1/Mpc) Wavenumber\n",
    "KMIN   = 0        # Minimum value of k to integrate from.\n",
    "KMAX   = np.inf   # Maximum value of k to integrate to.\n",
    "INTLIM = 500      # Upper bound on the number of subintervals used for spint.quad.\n",
    "\n",
    "##### Variables for Bias Param #####\n",
    "DELC = 1.68\n",
    "\n",
    "##### Variables for Nonlinear Power Spectrum #####\n",
    "MCO   =  MSOLAR*10**14 # Mass cutoff\n",
    "# Intermediate calculation for the scale radius\n",
    "SRCON = (3 / (800*np.pi*RHO0))**(1/3)    \n",
    "DX    = np.sqrt(2.2e-16)           \n",
    "\n",
    "# Parameters for Sheth-Tormen mass function.\n",
    "ALPHA = 0.707\n",
    "Q     = 0.3\n",
    "A     = 0.322 "
   ]
  },
  {
   "cell_type": "markdown",
   "id": "9e11723d-6833-446f-8191-9e6c3fbec67a",
   "metadata": {
    "tags": []
   },
   "source": [
    "## Section 1: Dimensionless Linear Power Spectrum"
   ]
  },
  {
   "cell_type": "markdown",
   "id": "3df30fd9-be37-4518-af60-d0bdf50d921c",
   "metadata": {
    "tags": []
   },
   "source": [
    "### Section 1.0: Notes on DLPS"
   ]
  },
  {
   "cell_type": "raw",
   "id": "54d04921-0e0e-4cf7-8bab-9379910338e3",
   "metadata": {},
   "source": [
    "Summary: Sections 1.1 and 1.2 repliate the plot in Figure 5-1 on page 45 for the dimensionless version of equation 5.1 on page 42 known as the dimensionless linear power spectrum (DLPS). \n",
    "\n",
    "Issues: No known issues. The plotted graph appears to match the plot in Figure 5-1. The only difference noted is that the equation used for the DLPS differs from what Dr. Cooney references as the DLPS by a factor defined to be NORM in Section 0. NORM = (2*pi)^3 and I'm not entirely sure what it's purpose is, but it is necessary in order for my plot to match the plot in Figure 5-1."
   ]
  },
  {
   "cell_type": "markdown",
   "id": "ea4220f1-f8aa-448e-9d73-7589a3d6cbe8",
   "metadata": {
    "tags": []
   },
   "source": [
    "### Section 1.1: Defined funcitons for DLPS"
   ]
  },
  {
   "cell_type": "code",
   "execution_count": 2,
   "id": "880b7941-883d-43a2-b1f3-0ecfa552809c",
   "metadata": {},
   "outputs": [],
   "source": [
    "def MDP(af):\n",
    "    '''\n",
    "    calculate mass density parameter at given scale factor a.\n",
    "    '''\n",
    "    return OMEGAM0 / (OMEGAM0 + af**3 * OMEGAL0)\n",
    "\n",
    "def cDP(af):\n",
    "    '''\n",
    "    calculate cosmological density parameter at given scale factor a.\n",
    "    '''\n",
    "    return 1 - MDP(af)\n",
    "\n",
    "def g(af):\n",
    "    '''\n",
    "    calculate g, Relative Growth Factor, at given scale factor a.\n",
    "    '''\n",
    "    return 2.5 * MDP(af) / (MDP(af)**(4/7) - cDP(af) + (1 + MDP(af)/2) * \\\n",
    "           (1 + cDP(af) / 70))\n",
    "\n",
    "def D(af):\n",
    "    '''\n",
    "    calcualte D, Linear Growth Factor, at given scale factor a. D_0 is the LGF. \n",
    "    (evaluated now at af=1)\n",
    "    '''\n",
    "    return af * g(af)\n",
    "\n",
    "def q(kf):\n",
    "    '''\n",
    "    calculate q, Shape Parameter, for given range of wavenumbers k.\n",
    "    '''\n",
    "    return kf / (GAMMA * DHP)\n",
    "\n",
    "def delH(nf):\n",
    "    '''\n",
    "    Not sure what this is called.\n",
    "    '''\n",
    "    return (1.94 * 10**(-5)) * OMEGAM0**(-bi[0] - bi[1] * np.log(OMEGAM0)) \\\n",
    "           * np.exp(-bi[2] * (nf - 1) - bi[3] * (nf - 1)**2)\n",
    "\n",
    "def Af(nf):\n",
    "    '''\n",
    "    Not sure what this is called. Have a note in my copy of dissertation saying \n",
    "    it is the Normalization Factor.\n",
    "    '''\n",
    "    return delH(nf)**2 * ((C / H0)**(nf + 3)) / (4 * np.pi)\n",
    "\n",
    "def LPS(kf, af, nf):\n",
    "    '''\n",
    "    Follows formulation given in equation 5.1 on page 42.\n",
    "    Function for Linear Power Spectrum P(k, a) = P(k).\n",
    "    (evaluated now at af=1)\n",
    "    '''\n",
    "    return Af(nf) * (kf**nf) * ((D(af) / D(1))**2) * (np.log(1 + ai[0] * q(kf)) \\\n",
    "           / (ai[0] * q(kf)))**2 / (1 + (ai[1] * q(kf)) +  ((ai[2] * q(kf))**2) \\\n",
    "           + ((ai[3] * q(kf))**3) + ((ai[4] * q(kf))**4))**0.5"
   ]
  },
  {
   "cell_type": "markdown",
   "id": "4c1b4f44-711c-45e6-aadb-b041b1211fa0",
   "metadata": {
    "tags": []
   },
   "source": [
    "### Section 1.2: Plot DLPS"
   ]
  },
  {
   "cell_type": "code",
   "execution_count": 3,
   "id": "28a0085a-62e2-4cc3-a175-6d4e77c9f07e",
   "metadata": {},
   "outputs": [
    {
     "data": {
      "image/png": "[encoded data removed]",
      "text/plain": [
       "<Figure size 720x576 with 1 Axes>"
      ]
     },
     "metadata": {
      "needs_background": "light"
     },
     "output_type": "display_data"
    }
   ],
   "source": [
    "if PLOTDLPS == 1:   \n",
    "    '''\n",
    "    This function differs from what is listed in Dr. Cooney's dissertation by \n",
    "    the NORM factor.\n",
    "    '''\n",
    "    # Dimensionless LPS\n",
    "    graphLPS = NORM * (kLIN**3) * LPS(kLIN, a, n) / (2 * np.pi**2)\n",
    "    \n",
    "    # Figure parameters\n",
    "    j+=1\n",
    "    plt.figure(j, figsize=(FIGX,FIGY))\n",
    "    plt.loglog(kLIN, graphLPS, '-')\n",
    "    plt.title('Dimensionless Linear Power Spectrum')\n",
    "    plt.xlabel('k (h/Mpc)')\n",
    "    plt.ylabel(r'$\\delta$ (k)')\n",
    "    plt.savefig('DLPS.pdf')"
   ]
  },
  {
   "cell_type": "markdown",
   "id": "b5758e28-08bf-460d-a3e0-785b6e7220e6",
   "metadata": {
    "tags": []
   },
   "source": [
    "## Section 2: Variance/Standard Deviation of density contrast"
   ]
  },
  {
   "cell_type": "markdown",
   "id": "389dcc3e-943f-4107-b375-fba4755eb9eb",
   "metadata": {},
   "source": [
    "### Section 2.0: Notes on Variance/Standard Deviation of Density Contrast"
   ]
  },
  {
   "cell_type": "raw",
   "id": "271eb3ab-356f-4957-b642-fe8435e6aa65",
   "metadata": {},
   "source": [
    "Summary: Sections 2.1 and 2.2 plot the integrand for equation 5.17 on page 46, known as the variance of the density contrast, over a range of k for several values of M/M0 to determine its behavior. Next, sections 2.3 and 2.4 calculate the standard deviation of the density contrast through numerical integration using the scipy.integrate.quad() function to replicate the plot in Figure 5-2 on page 48.\n",
    "\n",
    "Issues: The plotted graph in Section 2.4 appears to match the plot in Figure 5-2. However, the numerical integration technique used reports a percent error around ~1% as M/M0 approaches the upper bound of the range plotted. This indicates that the method of numerical integration used may not be appropriate for this function as the error for this technique on normal functions is << 1%. It doesn't appear to be an issue on the surface, but may indicate that a better method exists and should be used instead. More detail is given in the notes located in Section 2.3.\n",
    "\n",
    "I also want to use the property of numpy arrays called broadcasting to vectorize all operations on arrays including numerical integration so that for loops are not necessary. For loops in Python are slow and require a lot of function calls while broadcasting using numpy arrays is very fast and efficient. I am currently learning how to implement this for SDInt() in Section 2.3 as I am currently using a loop to find the numerical integral for each input M/M0 in Section 2.4 when finding the graph"
   ]
  },
  {
   "cell_type": "markdown",
   "id": "9e0771ff-4224-44b3-b3c5-e24afbf329e5",
   "metadata": {
    "tags": []
   },
   "source": [
    "### Section 2.1: Define functions for variance integrand"
   ]
  },
  {
   "cell_type": "code",
   "execution_count": 4,
   "id": "fd22de01-e73e-4620-9261-e1a89b27215c",
   "metadata": {},
   "outputs": [],
   "source": [
    "def FTTHWF(kf, M):\n",
    "    '''\n",
    "    Fourier transform of top hat window function.\n",
    "    '''\n",
    "    return 3*(np.sin(kf * np.cbrt(M * P1)) - (kf * np.cbrt(M * P1)) \\\n",
    "              * np.cos(kf * np.cbrt(M * P1))) / (kf * np.cbrt(M * P1))**3\n",
    "\n",
    "def VARIntegrand(kf, M):\n",
    "    '''\n",
    "    Integrand for variance of density contrast.\n",
    "    '''\n",
    "    return P2 * kf**2 * LPS(kf,a,n) * FTTHWF(KCONV*kf,M)**2"
   ]
  },
  {
   "cell_type": "markdown",
   "id": "cead1427-a85e-4bbd-846a-1c154fec26d8",
   "metadata": {
    "tags": []
   },
   "source": [
    "### Section 2.2: Plot integrand for range of mass"
   ]
  },
  {
   "cell_type": "code",
   "execution_count": 5,
   "id": "91474026-8f74-414e-ae34-7275a7b5fb34",
   "metadata": {},
   "outputs": [
    {
     "data": {
      "image/png": "[encoded data removed]",
      "text/plain": [
       "<Figure size 720x576 with 1 Axes>"
      ]
     },
     "metadata": {
      "needs_background": "light"
     },
     "output_type": "display_data"
    }
   ],
   "source": [
    "# Plot integrand for values of M to get an idea of when it behaves weirdly when \n",
    "# varying k to determine a proper interval for integration.\n",
    "\n",
    "if PLOTVARINT == 1: \n",
    "    graphINTlow  = VARIntegrand(kVAR, M_SOL[0])\n",
    "    graphINTmed  = VARIntegrand(kVAR, M_SOL[POINTS // 2])\n",
    "    graphINThigh = VARIntegrand(kVAR, M_SOL[-1])\n",
    "\n",
    "    j+=1\n",
    "    plt.figure(j, figsize=(FIGX,FIGY))\n",
    "    plt.loglog(kVAR, graphINTlow,  label='Low M/M0')\n",
    "    plt.loglog(kVAR, graphINTmed,  label='Med M/M0')\n",
    "    plt.loglog(kVAR, graphINThigh, label='High M/M0')\n",
    "    plt.legend()\n",
    "    plt.title(r'Variance Integrand Low/Med/High $M/M_0$')\n",
    "    plt.xlabel('k (h/Mpc)')\n",
    "    plt.ylabel(r'Int(k)')\n",
    "    plt.savefig('VARIntALL.pdf')"
   ]
  },
  {
   "cell_type": "markdown",
   "id": "b846609b-636f-46a1-9444-edd38e046396",
   "metadata": {
    "tags": []
   },
   "source": [
    "### Section 2.3: Define function to evaluate the numerical integral for Standard Deviation"
   ]
  },
  {
   "cell_type": "code",
   "execution_count": 6,
   "id": "718cf4f4-ec3d-4f59-8b97-d134e47cb0ce",
   "metadata": {},
   "outputs": [],
   "source": [
    "def SDInt(M):\n",
    "    '''\n",
    "    Numerical integration for variance of density contrast. Returns individual\n",
    "    points for plot of STD.\n",
    "    \n",
    "    I have to use the property called broadcasting for np.array to avoid using\n",
    "    loops at all. Otherwise the code is not efficient. I came across a method\n",
    "    in NumPy that vectorizes a function and believe that is what I need to do\n",
    "    to use broadcasting for this numerical integral.\n",
    "    '''\n",
    "    return np.sqrt(spint.quad(VARIntegrand, a=KMIN, b=KMAX, args=(M), limit=INTLIM)[0])"
   ]
  },
  {
   "cell_type": "markdown",
   "id": "a685b3bd-e7ff-4f53-bca7-f4240796023d",
   "metadata": {},
   "source": [
    "#### Notes on Section 2.3 for funciton SDInt"
   ]
  },
  {
   "cell_type": "raw",
   "id": "708bbeaf-72dc-46b3-806d-3009bdfcfce9",
   "metadata": {},
   "source": [
    "scipy.integrate.quad (spint.quad()) returns a tuple with the value of the integral and the estimated value of error. I found out recently that the scipy.integrate.quad() function is very powerful as it uses different numerical integration techniques depending on the given integration limits.\n",
    "\n",
    "Source: SciPy v1.8.0 Documentation\n",
    "URL: https://docs.scipy.org/doc/scipy-1.8.0/html-scipyorg/reference/generated/scipy.integrate.quad.html#scipy.integrate.quad\n",
    "Quote: \"If one of the integration limits is infinite, then a Fourier integral is computed (assuming w neq 0).\"\n",
    "\n",
    "The upper bound for SDInt is infinity so scipy.integrate.quad() must use a Fourier integral according to the parameters given in the documentation unless other parameters are provided. The error for scipy.integrate.quad() on VARIntegrand() over the whole range of M/M0 is on the order of 10^-8. The value of the integral ranges from ~10 to ~10^-6 for increasing M/M0. Therefore the percent error increases as M/M0 approaches the upper bound of the range meaning a different numerical integration technique may be appropriate.\n",
    "\n",
    "I would have to do more research into understanding why this method of integration does not work well with this function to be able to choose another numerical integration technique that does work well. I could just test out different methods and choose the one with the least error, but I would like to understand why it has the least error."
   ]
  },
  {
   "cell_type": "code",
   "execution_count": 7,
   "id": "07891dc3-e0e9-4e5a-bc03-6840afdf824b",
   "metadata": {},
   "outputs": [
    {
     "name": "stdout",
     "output_type": "stream",
     "text": [
      "Value of numerical integral of variance for low values of M/M0: \n",
      "6.981446830886096\n",
      "Value of estimated error for numerical integral of variance for low values of M/M0: \n",
      "8.547991923594269e-08\n",
      "Looks pretty good considering the value of the integral is 9 orders of magnitude above the error.\n",
      "\n",
      "Value of numerical integral of variance for medium values of M/M0: \n",
      "0.08300956614233516\n",
      "Value of estimated error for numerical integral of variance for med values of M/M0: \n",
      "1.4565609521358612e-08\n",
      "Percent error: 1.7546904770449223e-05\n",
      "The value of the integral is approaching the value of the error but is still not too bad.\n",
      "\n",
      "Value of numerical integral of variance for high values of M/M0: \n",
      "2.9057343953241298e-06\n",
      "Value of estimated error for numerical integral of variance for high values of M/M0: \n",
      "1.3017024651569294e-08\n",
      "Percent error: 0.44797709909467714\n",
      "The relative error is on the order of a percent now. \n",
      "May need to look for another integration method. Will discuss with Dr. Cooney.\n"
     ]
    }
   ],
   "source": [
    "# This gives just the output of the numerical integal for the plotted integrand of variance \n",
    "# in the previous section. I am using this to show the impact of the estimated error that\n",
    "# scipy.integrate.quad() provides.\n",
    "\n",
    "lowTest  = spint.quad(VARIntegrand, a=KMIN, b=KMAX, args=(M_SOL[0]), limit=INTLIM)\n",
    "medTest  = spint.quad(VARIntegrand, a=KMIN, b=KMAX, args=(M_SOL[POINTS//2]), limit=INTLIM)\n",
    "highTest = spint.quad(VARIntegrand, a=KMIN, b=KMAX, args=(M_SOL[-1]), limit=INTLIM)\n",
    "\n",
    "percentErrorLow  = 100 *  lowTest[1] /  lowTest[0]\n",
    "percentErrorMed  = 100 *  medTest[1] /  medTest[0]\n",
    "percentErrorHigh = 100 * highTest[1] / highTest[0]\n",
    "\n",
    "print('Value of numerical integral of variance for low values of M/M0: ' , NL , lowTest[0] , NL , \n",
    "      'Value of estimated error for numerical integral of variance for low values of M/M0: ' , NL , lowTest[1] , NL , \n",
    "      \n",
    "      'Looks pretty good considering the value of the integral is 9 orders of magnitude above the error.' , NL , sep='')\n",
    "\n",
    "print('Value of numerical integral of variance for medium values of M/M0: ' , NL  , medTest[0] , NL , \n",
    "      'Value of estimated error for numerical integral of variance for med values of M/M0: ' , NL  , medTest[1] , NL , \n",
    "      'Percent error: ' , percentErrorMed , NL , \n",
    "      'The value of the integral is approaching the value of the error but is still not too bad.' , NL , sep='')\n",
    "\n",
    "print('Value of numerical integral of variance for high values of M/M0: ' , NL  , highTest[0] , NL , \n",
    "      'Value of estimated error for numerical integral of variance for high values of M/M0: ' , NL  , highTest[1] , NL , \n",
    "      'Percent error: ' , percentErrorHigh , NL , \n",
    "      'The relative error is on the order of a percent now. \\n' , \n",
    "      'May need to look for another integration method. Will discuss with Dr. Cooney.' , sep='')"
   ]
  },
  {
   "cell_type": "markdown",
   "id": "a1bf0be5-9e41-41e1-940f-0cb38b50457f",
   "metadata": {
    "tags": []
   },
   "source": [
    "### Section 2.4: Plot Standard Deviation"
   ]
  },
  {
   "cell_type": "code",
   "execution_count": 8,
   "id": "81f3141e-b1d7-4211-b6fc-4d2418150bd7",
   "metadata": {},
   "outputs": [
    {
     "data": {
      "image/png": "[encoded data removed]",
      "text/plain": [
       "<Figure size 720x576 with 1 Axes>"
      ]
     },
     "metadata": {
      "needs_background": "light"
     },
     "output_type": "display_data"
    },
    {
     "data": {
      "image/png": "[encoded data removed]",
      "text/plain": [
       "<Figure size 720x576 with 1 Axes>"
      ]
     },
     "metadata": {
      "needs_background": "light"
     },
     "output_type": "display_data"
    }
   ],
   "source": [
    "if PLOTSD == 1:\n",
    "\n",
    "    # Initialize NumPy array for SD points to plot.\n",
    "    graphSD = np.zeros(POINTS)\n",
    "    \n",
    "    # Numerically integrate the standard deviation and store values in \"graphSD\".\n",
    "    for i in range(POINTS):\n",
    "        graphSD[i] = SDInt(M_SOL[i])\n",
    "    \n",
    "    # Plot for Standard Deviation of Density Contrast\n",
    "    j+=1\n",
    "    plt.figure(j,figsize=(FIGX,FIGY))\n",
    "    plt.loglog(M_MAG, graphSD)\n",
    "    plt.title('Standard Deviation of Density Contrast')\n",
    "    plt.xlabel(r'$M/M_0$')\n",
    "    plt.ylabel(r'$\\sigma(M)$')\n",
    "    plt.savefig('SD.pdf')\n",
    "    \n",
    "    # Plot for Natural log of inverse SD. Needed later on in Sheth-Tormen mass function.\n",
    "    j+=1\n",
    "    plt.figure(j,figsize=(FIGX,FIGY))\n",
    "    plt.semilogx(M_MAG, np.log(graphSD**(-1)))\n",
    "    plt.title('Natural log of Inverse SD')\n",
    "    plt.xlabel(r'$M/M_0$')\n",
    "    plt.ylabel(r'$ln(\\sigma^{-1})$')\n",
    "    plt.savefig('lnSDInv.pdf')"
   ]
  },
  {
   "cell_type": "markdown",
   "id": "d9ade89d-a598-46fe-9150-84799fac6f87",
   "metadata": {
    "tags": []
   },
   "source": [
    "## Section 3: Bias factor b(M) for 2H term of Nonlinear Power Spectrum"
   ]
  },
  {
   "cell_type": "markdown",
   "id": "38deb1b7-c1cd-400f-88a2-4057b36791d4",
   "metadata": {
    "tags": []
   },
   "source": [
    "### Section 3.0: Notes on bias factor for 2 halo term of Nonlinear Power Spectrum"
   ]
  },
  {
   "cell_type": "raw",
   "id": "31e0d475-1ff8-49b3-a1b8-5f1143561c24",
   "metadata": {},
   "source": [
    "Summary: Section 3.1 and 3.2 replicates the plot in Figure 5-3 on page 50 for equation 5.21 on page 47 known as the bias factor from Jing (1998). The bias factor in the 2H contribution to the nonlinear power spectrum accounts for the difference in clustering between matter and dark matter density fields. \n",
    "\n",
    "Issues: No known issues. The plotted graph appears to match the plot in Figure 5-3. This section depends on the results from Section 2 so if there is an issue with the numerical integration used then the results will be affected."
   ]
  },
  {
   "cell_type": "markdown",
   "id": "faf95940-e545-4f57-ad85-0e7488a71c94",
   "metadata": {
    "tags": []
   },
   "source": [
    "### Section 3.1: Define functions for bias factor"
   ]
  },
  {
   "cell_type": "code",
   "execution_count": 9,
   "id": "294771d0-8019-445b-a669-5089d16bbea8",
   "metadata": {},
   "outputs": [],
   "source": [
    "def nu(M):\n",
    "    '''\n",
    "    Peak height in Jing (1998)\n",
    "    '''\n",
    "    if PLOTSD == 0:\n",
    "        # Haven't done the numerical integration yet. Have to do now.\n",
    "        SD = np.zeros(POINTS)\n",
    "        for i in range(POINTS):\n",
    "            SD[i] = SDInt(M_SOL[i])\n",
    "        return DELC / SD\n",
    "    else:\n",
    "        # Have done the numerical integration so do not need to do it again.\n",
    "        return DELC / graphSD\n",
    "\n",
    "def bParam(M):\n",
    "    '''\n",
    "    Bias parameter used in the power spectrum of the 2-point correlation function.\n",
    "    '''\n",
    "    return (1 + (nu(M)**2 - 1)/DELC) * (1/(2*nu(M)**4) + 1)**(0.06-0.02*n)"
   ]
  },
  {
   "cell_type": "markdown",
   "id": "0adb37d2-6d5c-404d-b6d7-0482cb8238a8",
   "metadata": {
    "tags": []
   },
   "source": [
    "### Section 3.2: Plot bias factor"
   ]
  },
  {
   "cell_type": "code",
   "execution_count": 10,
   "id": "59274eb6-3995-422d-8e09-de8984320dcd",
   "metadata": {},
   "outputs": [
    {
     "data": {
      "image/png": "[encoded data removed]",
      "text/plain": [
       "<Figure size 720x576 with 1 Axes>"
      ]
     },
     "metadata": {
      "needs_background": "light"
     },
     "output_type": "display_data"
    }
   ],
   "source": [
    "if PLOTBIAS == 1:\n",
    "    \n",
    "    graphBIAS = bParam(M_SOL)\n",
    "    \n",
    "    j+=1\n",
    "    plt.figure(j,figsize=(FIGX,FIGY))\n",
    "    plt.loglog(M_MAG, graphBIAS)\n",
    "    plt.title('Bias Parameter')\n",
    "    plt.xlabel(r'$M/M_0$')\n",
    "    plt.ylabel(r'$b(M)$')\n",
    "    plt.savefig('BIAS.pdf')"
   ]
  },
  {
   "cell_type": "markdown",
   "id": "f43eba4a-46b4-4765-b980-5d1895640bbb",
   "metadata": {
    "tags": []
   },
   "source": [
    "## Section 4: Nonlinear Power Spectrum"
   ]
  },
  {
   "cell_type": "raw",
   "id": "1ad4a496-cacb-48a5-be05-da9a8de404b6",
   "metadata": {},
   "source": [
    "Summary: Sections 4.1 and 4.2 plot the integrand for equations 5.19 and 5.20 on page 47. These equations are the one-halo and halo-halo components of the nonlinear power spectrum. Next, Section 4.3 and 4.4 replicate the plots from Figures 5-4, 5-5, 5-6, and 5-7 for the dimensionless nonlinear power spectrum using various halo profiles and mass functions\n",
    "\n",
    "Issues: This section is currently not running since it is not working properly. I need to determine the proper numerical derivative and integration techniques that should be used. I do not understand the functions being used to properly do this so I would like to discuss this with Dr. Cooney when he is available. In particular, section 2.3 of his dissertation where he defines the mass functions and halo profiles since those are the components I am having trouble with."
   ]
  },
  {
   "cell_type": "markdown",
   "id": "96d69284-c567-4e5a-8b3c-0b50f5a140d2",
   "metadata": {
    "tags": []
   },
   "source": [
    "### Section 4.1: Define functions for integrand of NLPS"
   ]
  },
  {
   "cell_type": "code",
   "execution_count": 11,
   "id": "8ddb1e38-b672-44f5-8b76-ce4d6ef90bc8",
   "metadata": {},
   "outputs": [],
   "source": [
    "def CP(M):\n",
    "    '''\n",
    "    Expression for the concentration parameter found in Jing and Suto.\n",
    "    '''\n",
    "    if M < MCO:\n",
    "        return 5*SDInt(M)\n",
    "    else:\n",
    "        return 9*SDInt(M)\n",
    "    \n",
    "def SR(M, cp):\n",
    "    '''\n",
    "    Scale radius.\n",
    "    '''\n",
    "    return SRCON*M**(1/3) / cp\n",
    "\n",
    "def delta(M, cp):\n",
    "    '''\n",
    "    Characteristic density.\n",
    "    '''\n",
    "    if M < MCO:\n",
    "        # Density amplitude for NFW density profile\n",
    "        return 200*cp**(3) / (3*(np.log(1 + cp) - cp/(1+cp))) \n",
    "    else:\n",
    "        # Density amplitude for Moore density profile\n",
    "        return 100*cp**(3) / np.log(1 + cp**(3/2)) \n",
    "\n",
    "def UP(q,M):\n",
    "    '''\n",
    "    Mixed density profile depending on value of M. MCO is the cutoff for \n",
    "    switching from one profile to the other.\n",
    "    '''\n",
    "    if M < MCO:\n",
    "        '''\n",
    "        Algebraic expression from Ma and Fry (2000) for fourier transform of NFW \n",
    "        density profile. 4% rms error\n",
    "        '''\n",
    "        return 4*np.pi*(np.log(np.exp(1)+1/q) - np.log(np.log(np.exp(1)\\\n",
    "                    +1/q)/3)) / ((1+q)**(1.1))**(2/1.1)\n",
    "    else:\n",
    "        '''\n",
    "        Algebraic expression from Ma and Fry (2000) for fourier transform of Moore \n",
    "        density profile. 1% rms error\n",
    "        '''\n",
    "        return 4*np.pi*(np.log(np.exp(1) + 1/q) + 0.25*np.log(np.log(np.exp(1)\\\n",
    "                    + 1/q))) / (1 + 0.8*q**(1.5))\n",
    "    \n",
    "def lnInvSD(M):\n",
    "    '''\n",
    "    Intermediate caluculation in mass functions.\n",
    "    '''\n",
    "    return np.log(SDInt(M)**(-1))\n",
    "\n",
    "def PSdndm(M):\n",
    "    '''\n",
    "    Press-Schecter mass/distribution function.\n",
    "    '''\n",
    "    dlnInvSD = spmisc.derivative(lnInvSD,M,dx=M*DX,order=3)\n",
    "    Nu       = nu(M)\n",
    "    return np.sqrt(2/np.pi) * dlnInvSD * RHO0 * Nu * np.exp(-Nu**(2)/2) / M\n",
    "\n",
    "def STdndm(M):\n",
    "    '''\n",
    "    Sheth-Tormen mass/distribution function.\n",
    "    '''\n",
    "    # Third order central finite difference method for estimating derivative\n",
    "    # dlnInvSD = (lnInvSD(np.exp(np.log(M)+DX)) - lnInvSD(np.exp(np.log(M)-DX))) / 2*DX\n",
    "    dlnInvSD = spmisc.derivative(lnInvSD,M,dx=DX,order=3)\n",
    "    NuP      = ALPHA**(-1/2)*nu(M)\n",
    "    return (RHO0/M**2) * dlnInvSD * 2*A * (1 + 1/(NuP)**(2*Q)) * np.sqrt(NuP**(2)\\\n",
    "            / 2*np.pi) * np.exp(-NuP**(2)/2)\n",
    "    \n",
    "def PS1HInteg(M,kf):\n",
    "    '''\n",
    "    Integrand of 1 halo power spectrum contribution.\n",
    "    '''\n",
    "    cp = CP(M)\n",
    "    sr = SR(M, cp)\n",
    "    return STdndm(M) * (sr**(3) * delta(M, cp) * UP(KCONV*kf*sr,M))**2\n",
    "\n",
    "def PS2HInteg(M,kf):\n",
    "    '''\n",
    "    Integrand of 1 halo power spectrum contribution.\n",
    "    '''\n",
    "    cp = CP(M)\n",
    "    sr = SR(M, cp)\n",
    "    return STdndm(M) * sr**3 * delta(M,cp) * UP(KCONV*kf*sr,M) * bParam(M)"
   ]
  },
  {
   "cell_type": "markdown",
   "id": "d133b71d-2a74-47ba-a98a-0135b1a6b598",
   "metadata": {
    "tags": []
   },
   "source": [
    "### Section 4.2: Plot NLPS Integrand"
   ]
  },
  {
   "cell_type": "code",
   "execution_count": 12,
   "id": "c4996857-d75d-4191-993e-f03fa3c3928c",
   "metadata": {},
   "outputs": [],
   "source": [
    "if PLOTSTDNDM == 1:\n",
    "    # Sheth-Tormen\n",
    "    \n",
    "    if PLOTSD == 0:\n",
    "        graphSTDNDM = np.zeros(POINTS)\n",
    "        for i in range(POINTS):\n",
    "            graphSTDNDM[i] = STdndm(M_SOL[i])\n",
    "    else:\n",
    "        graphSTDDNDM = STdndm(M_SOL)\n",
    "    \n",
    "        \n",
    "    j+=1\n",
    "    plt.figure(j, figsize=(FIGX,FIGY))\n",
    "    plt.semilogx(M_MAG, graphSTDNDM)\n",
    "    plt.title(r'Sheth-Tormen Mass Function')\n",
    "    plt.xlabel(r'$M/M_0$')\n",
    "    plt.ylabel(r'dn/dm')\n",
    "    plt.savefig('STDNDM.pdf')\n",
    "    \n",
    "if PLOTPSINT == 1:\n",
    "    '''\n",
    "    Broadcasting of Numpy arrays is not magic so don't treat it like it is.\n",
    "    '''\n",
    "    PS1HINT = np.zeros((3,POINTS))\n",
    "    PS2HINT = np.zeros((3,POINTS))\n",
    "    \n",
    "    for i in range(POINTS):\n",
    "        PS1HINT[0,i] = PS1HInteg(M_SOL[i], kLIN[0])\n",
    "        PS1HINT[1,i] = PS1HInteg(M_SOL[i], kLIN[POINTS // 2])\n",
    "        PS1HINT[2,i] = PS1HInteg(M_SOL[i], kLIN[POINTS - 1] )\n",
    "\n",
    "        PS2HINT[0,i] = PS2HInteg(M_SOL[i], kLIN[0])\n",
    "        PS2HINT[1,i] = PS2HInteg(M_SOL[i], kLIN[POINTS // 2])\n",
    "        PS2HINT[2,i] = PS2HInteg(M_SOL[i], kLIN[POINTS - 1] )\n",
    "    \n",
    "    j+=1\n",
    "    plt.figure(j, figsize=(FIGX,FIGY))\n",
    "    plt.loglog(M_MAG, PS1HINT[0])\n",
    "    plt.loglog(M_MAG, PS1HINT[1])\n",
    "    plt.loglog(M_MAG, PS1HINT[2])\n",
    "    plt.title(r'PS1H Integrand Low/Med/High k')\n",
    "    plt.xlabel(r'$M/M_0$')\n",
    "    plt.ylabel(r'Int(M)')\n",
    "    plt.savefig('PS1HIntALL.pdf')\n",
    "    \n",
    "    j+=1\n",
    "    plt.figure(j, figsize=(FIGX,FIGY))\n",
    "    plt.loglog(M_MAG, PS2HINT[0])\n",
    "    plt.loglog(M_MAG, PS2HINT[1])\n",
    "    plt.loglog(M_MAG, PS2HINT[2])\n",
    "    plt.title(r'PS2H Integrand Low/Med/High $k$')\n",
    "    plt.xlabel(r'$M/M_0$')\n",
    "    plt.ylabel(r'Int(M)')\n",
    "    plt.savefig('PS1HIntALL.pdf')"
   ]
  },
  {
   "cell_type": "markdown",
   "id": "0b1656ba-18f1-46ef-9888-1a65b2f384d2",
   "metadata": {
    "tags": []
   },
   "source": [
    "### Section 4.3: Define functions to numerically integrate NLPS"
   ]
  },
  {
   "cell_type": "code",
   "execution_count": 13,
   "id": "0cf65514-519a-4426-9745-22ccf7b17bed",
   "metadata": {},
   "outputs": [],
   "source": [
    "def PS1HInt(kf):\n",
    "    return spint.quad(PS1HInteg, 0, 3, args=(kf,))[0]"
   ]
  },
  {
   "cell_type": "markdown",
   "id": "f8aeaa90-bd92-4a95-a652-5f55a51e3eb9",
   "metadata": {
    "tags": []
   },
   "source": [
    "### Section 4.4: Plot NLPS"
   ]
  },
  {
   "cell_type": "code",
   "execution_count": 14,
   "id": "d1c45415-b650-4060-af4d-8571d5b418cb",
   "metadata": {},
   "outputs": [],
   "source": [
    "if PLOTPS == 1:\n",
    "    PS1HGRAPH = np.zeros(POINTS)\n",
    "    for i in range(POINTS):\n",
    "        PS1HGRAPH[i] = PS1HInt(kLIN[i])\n",
    "    \n",
    "    j+=1\n",
    "    plt.figure(j,figsize=(FIGX,FIGY))\n",
    "    plt.loglog(kLIN, PS1HGRAPH)\n",
    "    plt.title('1H Power Spectrum Contribution')\n",
    "    plt.xlabel('k (h/Mpc)')\n",
    "    plt.ylabel(r'$P_{1H}(k)$')\n",
    "    plt.savefig('P1H.pdf')"
   ]
  }
 ],
 "metadata": {
  "kernelspec": {
   "display_name": "Python 3 (ipykernel)",
   "language": "python",
   "name": "python3"
  },
  "language_info": {
   "codemirror_mode": {
    "name": "ipython",
    "version": 3
   },
   "file_extension": ".py",
   "mimetype": "text/x-python",
   "name": "python",
   "nbconvert_exporter": "python",
   "pygments_lexer": "ipython3",
   "version": "3.9.7"
  }
 },
 "nbformat": 4,
 "nbformat_minor": 5
}
